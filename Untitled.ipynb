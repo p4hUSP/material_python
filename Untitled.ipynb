{
 "cells": [
  {
   "cell_type": "markdown",
   "metadata": {},
   "source": [
    "# Tutorial Python P4H\n",
    "\n",
    "## Primeiros Passos\n",
    "\n",
    "Em primeiro lugar, precisamos fazer o _download_ do pacote Anaconda no seu computador. Anaconda é um projeto voltado para análise de dados no Python. Os desenvolvedores desse projeto disponibilizam uma espécie de 'pacote' com todos os módulos mais utilizados em _data science_ no Python. Além disso, eles oferecem o `jupyter notebook`, que é provavelmente uma das maneiras mais comuns de se escrever códigos para análise de dados no Python.\n",
    "\n",
    "Para realizar o download do Anaconda, clique [aqui](https://anaconda.org/). Você será redirecionado ao site oficial do projeto. Em seguinda, clique na aba `Download Anaconda`. Por fim, clique em `Download` para versão 3.X do Python, instale e seja feliz.\n",
    "\n",
    "## Jupyter Notebook\n",
    "\n",
    "Ao instalar o pacote Anaconda, você terá disponível no seu computador o `jupyter notebook` (JP). No Windows, basta procurar pelo nome que você irá achar o programa. No Linux, você precisa abrir um terminal e digitar `jupyter notebook`."
   ]
  },
  {
   "cell_type": "markdown",
   "metadata": {},
   "source": [
    "## Tipos de Variáveis\n",
    "\n",
    "No Python, temos disponíveis três tipos básicos de valores: `int`, `float` e o `string`."
   ]
  },
  {
   "cell_type": "code",
   "execution_count": 1,
   "metadata": {},
   "outputs": [
    {
     "data": {
      "text/plain": [
       "1"
      ]
     },
     "execution_count": 1,
     "metadata": {},
     "output_type": "execute_result"
    }
   ],
   "source": [
    "int(1)"
   ]
  },
  {
   "cell_type": "code",
   "execution_count": 2,
   "metadata": {},
   "outputs": [
    {
     "data": {
      "text/plain": [
       "1.2"
      ]
     },
     "execution_count": 2,
     "metadata": {},
     "output_type": "execute_result"
    }
   ],
   "source": [
    "float(1.2)"
   ]
  },
  {
   "cell_type": "code",
   "execution_count": 5,
   "metadata": {},
   "outputs": [
    {
     "data": {
      "text/plain": [
       "'string'"
      ]
     },
     "execution_count": 5,
     "metadata": {},
     "output_type": "execute_result"
    }
   ],
   "source": [
    "\"string\""
   ]
  },
  {
   "cell_type": "markdown",
   "metadata": {},
   "source": [
    "## Estrutura de Dados\n",
    "\n",
    "Quanto às estruturas, temos duas principais: `scalar`, `list` e `"
   ]
  }
 ],
 "metadata": {
  "kernelspec": {
   "display_name": "Python 3",
   "language": "python",
   "name": "python3"
  },
  "language_info": {
   "codemirror_mode": {
    "name": "ipython",
    "version": 3
   },
   "file_extension": ".py",
   "mimetype": "text/x-python",
   "name": "python",
   "nbconvert_exporter": "python",
   "pygments_lexer": "ipython3",
   "version": "3.6.6"
  }
 },
 "nbformat": 4,
 "nbformat_minor": 2
}
