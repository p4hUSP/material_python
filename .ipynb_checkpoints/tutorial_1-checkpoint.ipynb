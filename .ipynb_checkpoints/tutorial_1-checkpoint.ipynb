{
 "cells": [
  {
   "cell_type": "markdown",
   "metadata": {},
   "source": [
    "# Tutorial Python P4H\n",
    "\n",
    "## Primeiros Passos\n",
    "\n",
    "Em primeiro lugar, precisamos fazer o _download_ do pacote Anaconda no seu computador. Anaconda é um projeto voltado para análise de dados no Python. Os desenvolvedores desse projeto disponibilizam uma espécie de 'pacote' com todos os módulos mais utilizados em _data science_ no Python. Além disso, eles oferecem o `jupyter notebook`, que é provavelmente uma das maneiras mais comuns de se escrever códigos para análise de dados no Python.\n",
    "\n",
    "Para realizar o download do Anaconda, clique [aqui](https://anaconda.org/). Você será redirecionado ao site oficial do projeto. Em seguinda, clique na aba `Download Anaconda`. Por fim, clique em `Download` para versão 3.X do Python, instale e seja feliz.\n",
    "\n",
    "## Jupyter Notebook\n",
    "\n",
    "Ao instalar o pacote Anaconda, você terá disponível no seu computador o `jupyter notebook` (JP). No Windows, basta procurar pelo nome que você irá achar o programa. No Linux, você precisa abrir um terminal e digitar `jupyter notebook`.\n",
    "\n",
    "Uma alternativa mais eficiente é utilizar o [Colab da Google](https://colab.research.google.com/notebook), que nada mais é do que um `jupyter notebook` repaginado pela Google."
   ]
  },
  {
   "cell_type": "markdown",
   "metadata": {},
   "source": [
    "### Importando Dados no Python\n",
    "\n",
    "O `pandas` possui uma série de funções `read_*` para importar dados de CSV, Excel, Stata, SQL, entre outros. Os bancos importados são transformados em um DataFrame. Semelhantemente ao R, um DataFrame é uma maneira de representar dados __retangulares__.\n",
    "\n",
    "Para utilizar o `pandas` precisamos carregá-lo dentro do nosso ambiente Python com o comando `import pandas as pd`."
   ]
  },
  {
   "cell_type": "code",
   "execution_count": 1,
   "metadata": {},
   "outputs": [],
   "source": [
    "import numpy as np\n",
    "import pandas as pd"
   ]
  },
  {
   "cell_type": "markdown",
   "metadata": {},
   "source": [
    "Neste tutorial, iremos utilizar a base de candidatos de 2018, disponibilizada pelo [TSE](http://www.tse.jus.br/eleicoes/estatisticas/repositorio-de-dados-eleitorais-1/repositorio-de-dados-eleitorais). Como o banco vem desagregado por UF, tomamos a liberdade de realizar o download e empilhar os arquivos para vocês. Faça o download dele [aqui](https://raw.githubusercontent.com/p4hUSP/material_python/master/data/candidatos_2018.csv)."
   ]
  },
  {
   "cell_type": "markdown",
   "metadata": {},
   "source": [
    "Caso você esteja utilizando o Colab, é preciso realizar o _upload_ do arquivo da sua máquina para o servidor da Google. Para isso basta executar o seguinte código:"
   ]
  },
  {
   "cell_type": "code",
   "execution_count": 2,
   "metadata": {},
   "outputs": [
    {
     "ename": "ModuleNotFoundError",
     "evalue": "No module named 'google'",
     "output_type": "error",
     "traceback": [
      "\u001b[0;31m---------------------------------------------------------------------------\u001b[0m",
      "\u001b[0;31mModuleNotFoundError\u001b[0m                       Traceback (most recent call last)",
      "\u001b[0;32m<ipython-input-2-292f82be1b7a>\u001b[0m in \u001b[0;36m<module>\u001b[0;34m()\u001b[0m\n\u001b[0;32m----> 1\u001b[0;31m \u001b[0;32mfrom\u001b[0m \u001b[0mgoogle\u001b[0m\u001b[0;34m.\u001b[0m\u001b[0mcolab\u001b[0m \u001b[0;32mimport\u001b[0m \u001b[0mfiles\u001b[0m\u001b[0;34m\u001b[0m\u001b[0m\n\u001b[0m\u001b[1;32m      2\u001b[0m \u001b[0;34m\u001b[0m\u001b[0m\n\u001b[1;32m      3\u001b[0m \u001b[0muploaded\u001b[0m \u001b[0;34m=\u001b[0m \u001b[0mfiles\u001b[0m\u001b[0;34m.\u001b[0m\u001b[0mupload\u001b[0m\u001b[0;34m(\u001b[0m\u001b[0;34m)\u001b[0m\u001b[0;34m\u001b[0m\u001b[0m\n\u001b[1;32m      4\u001b[0m \u001b[0;34m\u001b[0m\u001b[0m\n\u001b[1;32m      5\u001b[0m \u001b[0;32mfor\u001b[0m \u001b[0mfn\u001b[0m \u001b[0;32min\u001b[0m \u001b[0muploaded\u001b[0m\u001b[0;34m.\u001b[0m\u001b[0mkeys\u001b[0m\u001b[0;34m(\u001b[0m\u001b[0;34m)\u001b[0m\u001b[0;34m:\u001b[0m\u001b[0;34m\u001b[0m\u001b[0m\n",
      "\u001b[0;31mModuleNotFoundError\u001b[0m: No module named 'google'"
     ]
    }
   ],
   "source": [
    "from google.colab import files\n",
    "\n",
    "uploaded = files.upload()\n",
    "\n",
    "for fn in uploaded.keys():\n",
    "  print('User uploaded file \"{name}\" with length {length} bytes'.format(\n",
    "      name=fn, length=len(uploaded[fn])))"
   ]
  },
  {
   "cell_type": "code",
   "execution_count": 3,
   "metadata": {},
   "outputs": [
    {
     "name": "stderr",
     "output_type": "stream",
     "text": [
      "/home/rafael/anaconda3/lib/python3.6/site-packages/IPython/core/interactiveshell.py:2785: DtypeWarning: Columns (58) have mixed types. Specify dtype option on import or set low_memory=False.\n",
      "  interactivity=interactivity, compiler=compiler, result=result)\n"
     ]
    }
   ],
   "source": [
    "banco = pd.read_csv(\"data/candidatos_2018.csv\")"
   ]
  },
  {
   "cell_type": "markdown",
   "metadata": {},
   "source": [
    "### Acessando Informações sobre o Banco\n",
    "\n",
    "Informações sobre o banco de dados são carregadas como __atributos__ e podem ser acessadas pelo uso do `.` após a chamada do banco. Por exemplo, uma dúvida comum, ao carregar um novo banco de dados, diz respeito aos nomes das variáveis. Essa informação pode ser acessada pelo seguinte comando: `banco.columns`"
   ]
  },
  {
   "cell_type": "code",
   "execution_count": 4,
   "metadata": {},
   "outputs": [
    {
     "data": {
      "text/plain": [
       "Index(['DT_GERACAO', 'HH_GERACAO', 'ANO_ELEICAO', 'CD_TIPO_ELEICAO',\n",
       "       'NM_TIPO_ELEICAO', 'NR_TURNO', 'CD_ELEICAO', 'DS_ELEICAO', 'DT_ELEICAO',\n",
       "       'TP_ABRANGENCIA', 'SG_UF', 'SG_UE', 'NM_UE', 'CD_CARGO', 'DS_CARGO',\n",
       "       'SQ_CANDIDATO', 'NR_CANDIDATO', 'NM_CANDIDATO', 'NM_URNA_CANDIDATO',\n",
       "       'NM_SOCIAL_CANDIDATO', 'NR_CPF_CANDIDATO', 'NM_EMAIL',\n",
       "       'CD_SITUACAO_CANDIDATURA', 'DS_SITUACAO_CANDIDATURA',\n",
       "       'CD_DETALHE_SITUACAO_CAND', 'DS_DETALHE_SITUACAO_CAND', 'TP_AGREMIACAO',\n",
       "       'NR_PARTIDO', 'SG_PARTIDO', 'NM_PARTIDO', 'SQ_COLIGACAO',\n",
       "       'NM_COLIGACAO', 'DS_COMPOSICAO_COLIGACAO', 'CD_NACIONALIDADE',\n",
       "       'DS_NACIONALIDADE', 'SG_UF_NASCIMENTO', 'CD_MUNICIPIO_NASCIMENTO',\n",
       "       'NM_MUNICIPIO_NASCIMENTO', 'DT_NASCIMENTO', 'NR_IDADE_DATA_POSSE',\n",
       "       'NR_TITULO_ELEITORAL_CANDIDATO', 'CD_GENERO', 'DS_GENERO',\n",
       "       'CD_GRAU_INSTRUCAO', 'DS_GRAU_INSTRUCAO', 'CD_ESTADO_CIVIL',\n",
       "       'DS_ESTADO_CIVIL', 'CD_COR_RACA', 'DS_COR_RACA', 'CD_OCUPACAO',\n",
       "       'DS_OCUPACAO', 'NR_DESPESA_MAX_CAMPANHA', 'CD_SIT_TOT_TURNO',\n",
       "       'DS_SIT_TOT_TURNO', 'ST_REELEICAO', 'ST_DECLARAR_BENS',\n",
       "       'NR_PROTOCOLO_CANDIDATURA', 'NR_PROCESSO', '%PDF-1.4'],\n",
       "      dtype='object')"
      ]
     },
     "execution_count": 4,
     "metadata": {},
     "output_type": "execute_result"
    }
   ],
   "source": [
    "banco.columns"
   ]
  },
  {
   "cell_type": "markdown",
   "metadata": {},
   "source": [
    "### Estatísticas Descritivas"
   ]
  },
  {
   "cell_type": "markdown",
   "metadata": {},
   "source": [
    "A partir desse banco podemos acessar algumas informações sobre os candidatos. Entre elas, temos a cor/raça (`DS_COR_RACA`) e o gênero (`DS_GENERO`). Salve engano, as duas informações são autodeclaradas.\n",
    "\n",
    "O cálculo de estatísticas descritivas (média, desvio padrão, frequência) é relativamente simples no Python. De modo geral, ao utilizar o `pandas`, você terá algumas opções de __método__, isto é, alguns objetos possuem comandos específicos para eles. Por exemplo, no `pandas`, o `DataFrame` possui alguns métodos embutidos como: `sum`, `cov`, `mean`, `median`, `values_count`. Esse último, em especial, é muito útil para cientistas sociais já que em geral trabalhamos muito com variáveis categóricas (gênero, raça, ocupação, etc.)."
   ]
  },
  {
   "cell_type": "code",
   "execution_count": 5,
   "metadata": {},
   "outputs": [
    {
     "data": {
      "text/plain": [
       "MASCULINO    19666\n",
       "FEMININO      8943\n",
       "Name: DS_GENERO, dtype: int64"
      ]
     },
     "execution_count": 5,
     "metadata": {},
     "output_type": "execute_result"
    }
   ],
   "source": [
    "banco.DS_GENERO.value_counts()"
   ]
  },
  {
   "cell_type": "code",
   "execution_count": 6,
   "metadata": {},
   "outputs": [
    {
     "data": {
      "text/plain": [
       "BRANCA      15042\n",
       "PARDA       10168\n",
       "PRETA        3095\n",
       "AMARELA       172\n",
       "INDÍGENA      132\n",
       "Name: DS_COR_RACA, dtype: int64"
      ]
     },
     "execution_count": 6,
     "metadata": {},
     "output_type": "execute_result"
    }
   ],
   "source": [
    "banco.DS_COR_RACA.value_counts()"
   ]
  },
  {
   "cell_type": "markdown",
   "metadata": {},
   "source": [
    "Rapidamente, assim, podemos acessar a distribuição de gênero e raça entre todos os candidatos para as eleições de 2018. Porém, o que fazer caso eu queira estatísticas descritivas de __variáveis numéricas__? Há duas possibilidades: 1) chamar a estatística descritiva desejada explicitamente (`mean`, `median`, etc.); 2) utilizar o __método__ `describe` que oferece um agregado de informações de uma única vez. Vamos testar a diferença?"
   ]
  },
  {
   "cell_type": "code",
   "execution_count": 7,
   "metadata": {},
   "outputs": [
    {
     "data": {
      "text/plain": [
       "47.86343458352267"
      ]
     },
     "execution_count": 7,
     "metadata": {},
     "output_type": "execute_result"
    }
   ],
   "source": [
    "banco.NR_IDADE_DATA_POSSE.mean()"
   ]
  },
  {
   "cell_type": "markdown",
   "metadata": {},
   "source": [
    "A média de idade dos candidatos é 47,8 anos."
   ]
  },
  {
   "cell_type": "code",
   "execution_count": 8,
   "metadata": {},
   "outputs": [
    {
     "data": {
      "text/plain": [
       "count    28609.000000\n",
       "mean        47.863435\n",
       "std         13.567615\n",
       "min         18.000000\n",
       "25%         40.000000\n",
       "50%         48.000000\n",
       "75%         56.000000\n",
       "max        999.000000\n",
       "Name: NR_IDADE_DATA_POSSE, dtype: float64"
      ]
     },
     "execution_count": 8,
     "metadata": {},
     "output_type": "execute_result"
    }
   ],
   "source": [
    "banco.NR_IDADE_DATA_POSSE.describe()"
   ]
  },
  {
   "cell_type": "markdown",
   "metadata": {},
   "source": [
    "Com o `describe`, além da média, recebemos várias informações que podem ser úteis para nós."
   ]
  },
  {
   "cell_type": "markdown",
   "metadata": {},
   "source": [
    "### Filtrando Observações"
   ]
  },
  {
   "cell_type": "markdown",
   "metadata": {},
   "source": [
    "Até agora, retiramos informações sobre __todos__ os candidatos para as eleições de 2018. Nesse sentido, trabalhamos com candidatos a deputado federal, deputado estadual, governador, senador e presidente. Possivelmente, ao realizar uma análise, será de interesse filtrar as observações para um grupo específico.\n",
    "\n",
    "Antes de realizar a filtragem, vamos ver como estão digitados os nomes dos cargos."
   ]
  },
  {
   "cell_type": "code",
   "execution_count": 9,
   "metadata": {},
   "outputs": [
    {
     "data": {
      "text/plain": [
       "DEPUTADO ESTADUAL     17699\n",
       "DEPUTADO FEDERAL       8424\n",
       "DEPUTADO DISTRITAL      968\n",
       "2º SUPLENTE             372\n",
       "1º SUPLENTE             365\n",
       "SENADOR                 357\n",
       "GOVERNADOR              199\n",
       "VICE-GOVERNADOR         199\n",
       "VICE-PRESIDENTE          13\n",
       "PRESIDENTE               13\n",
       "Name: DS_CARGO, dtype: int64"
      ]
     },
     "execution_count": 9,
     "metadata": {},
     "output_type": "execute_result"
    }
   ],
   "source": [
    "banco.DS_CARGO.value_counts()"
   ]
  },
  {
   "cell_type": "markdown",
   "metadata": {},
   "source": [
    "Que tal trabalharmos com candidatos a deputado federal? Para selecionar observações referentes a esse cargo, precisamos utilizar o seguinte comando `BANCO[BANCO.VAR == X]`."
   ]
  },
  {
   "cell_type": "code",
   "execution_count": 10,
   "metadata": {},
   "outputs": [],
   "source": [
    "dep_fed = banco[banco.DS_CARGO == 'DEPUTADO FEDERAL']"
   ]
  },
  {
   "cell_type": "markdown",
   "metadata": {},
   "source": [
    "Apenas para garantir, vamos ver a distribuição de `DS_CARGO` no nosso novo banco de dados."
   ]
  },
  {
   "cell_type": "code",
   "execution_count": 11,
   "metadata": {},
   "outputs": [
    {
     "data": {
      "text/plain": [
       "DEPUTADO FEDERAL    8424\n",
       "Name: DS_CARGO, dtype: int64"
      ]
     },
     "execution_count": 11,
     "metadata": {},
     "output_type": "execute_result"
    }
   ],
   "source": [
    "dep_fed.DS_CARGO.value_counts()"
   ]
  },
  {
   "cell_type": "markdown",
   "metadata": {},
   "source": [
    "### Recodificando Variáveis\n",
    "\n",
    "Outro trabalho constantemente realizado durante uma análise de dados é a recodificação de variáveis. Novamente, DataFrames possuem um __método__ pronto para tal tarefa. No caso, vamos reclassificar a variável cor/raça para algo mais próximo da sociologia. Iremos utilizar o termo __não-brancos__ para pretos, pardos e indígenas, enquanto brancos serão mantidos como brancos."
   ]
  },
  {
   "cell_type": "code",
   "execution_count": 12,
   "metadata": {},
   "outputs": [
    {
     "data": {
      "text/plain": [
       "BRANCA      4827\n",
       "PARDA       2586\n",
       "PRETA        911\n",
       "AMARELA       61\n",
       "INDÍGENA      39\n",
       "Name: DS_COR_RACA, dtype: int64"
      ]
     },
     "execution_count": 12,
     "metadata": {},
     "output_type": "execute_result"
    }
   ],
   "source": [
    "dep_fed.DS_COR_RACA.value_counts()"
   ]
  },
  {
   "cell_type": "code",
   "execution_count": 13,
   "metadata": {},
   "outputs": [
    {
     "data": {
      "text/plain": [
       "7          BRANCA\n",
       "15    Não-Brancos\n",
       "17    Não-Brancos\n",
       "18          PRETA\n",
       "20         BRANCA\n",
       "Name: DS_COR_RACA, dtype: object"
      ]
     },
     "execution_count": 13,
     "metadata": {},
     "output_type": "execute_result"
    }
   ],
   "source": [
    "dep_fed.DS_COR_RACA.replace('PARDA', 'Não-Brancos').head()"
   ]
  },
  {
   "cell_type": "code",
   "execution_count": 14,
   "metadata": {},
   "outputs": [
    {
     "data": {
      "text/plain": [
       "7          BRANCA\n",
       "15          PARDA\n",
       "17          PARDA\n",
       "18    Não-Brancos\n",
       "20         BRANCA\n",
       "Name: DS_COR_RACA, dtype: object"
      ]
     },
     "execution_count": 14,
     "metadata": {},
     "output_type": "execute_result"
    }
   ],
   "source": [
    "dep_fed.DS_COR_RACA.replace('PRETA', 'Não-Brancos').head()"
   ]
  },
  {
   "cell_type": "code",
   "execution_count": 15,
   "metadata": {},
   "outputs": [
    {
     "data": {
      "text/plain": [
       "7     BRANCA\n",
       "15     PARDA\n",
       "17     PARDA\n",
       "18     PRETA\n",
       "20    BRANCA\n",
       "Name: DS_COR_RACA, dtype: object"
      ]
     },
     "execution_count": 15,
     "metadata": {},
     "output_type": "execute_result"
    }
   ],
   "source": [
    "dep_fed.DS_COR_RACA.replace('INDÍGENA', 'Não-Brancos').head()"
   ]
  },
  {
   "cell_type": "markdown",
   "metadata": {},
   "source": [
    "O processo, a princípio, pode ser feito um por vez. Porém, podemos utilizar um _truque_ e realizar todas as recategorizações a partir de dois comandos."
   ]
  },
  {
   "cell_type": "code",
   "execution_count": 16,
   "metadata": {},
   "outputs": [
    {
     "name": "stderr",
     "output_type": "stream",
     "text": [
      "/home/rafael/anaconda3/lib/python3.6/site-packages/pandas/core/indexing.py:543: SettingWithCopyWarning: \n",
      "A value is trying to be set on a copy of a slice from a DataFrame.\n",
      "Try using .loc[row_indexer,col_indexer] = value instead\n",
      "\n",
      "See the caveats in the documentation: http://pandas.pydata.org/pandas-docs/stable/indexing.html#indexing-view-versus-copy\n",
      "  self.obj[item] = s\n"
     ]
    }
   ],
   "source": [
    "dep_fed.loc[np.in1d(dep_fed.DS_COR_RACA, ['PARDA','PRETA','INDÍGENA']),'DS_COR_RACA'] = \"Não-Brancos\"\n",
    "dep_fed.loc[np.in1d(dep_fed.DS_COR_RACA, 'BRANCA'),'DS_COR_RACA'] = 'Brancos'"
   ]
  },
  {
   "cell_type": "code",
   "execution_count": 17,
   "metadata": {},
   "outputs": [
    {
     "data": {
      "text/plain": [
       "Brancos        4827\n",
       "Não-Brancos    3536\n",
       "AMARELA          61\n",
       "Name: DS_COR_RACA, dtype: int64"
      ]
     },
     "execution_count": 17,
     "metadata": {},
     "output_type": "execute_result"
    }
   ],
   "source": [
    "dep_fed.DS_COR_RACA.value_counts()"
   ]
  },
  {
   "cell_type": "markdown",
   "metadata": {},
   "source": [
    "### Gráficos"
   ]
  },
  {
   "cell_type": "code",
   "execution_count": 18,
   "metadata": {},
   "outputs": [],
   "source": [
    "import matplotlib.pyplot as plt"
   ]
  },
  {
   "cell_type": "code",
   "execution_count": 19,
   "metadata": {},
   "outputs": [],
   "source": [
    "base = dep_fed.DS_COR_RACA.value_counts()"
   ]
  },
  {
   "cell_type": "code",
   "execution_count": 20,
   "metadata": {},
   "outputs": [],
   "source": [
    "index = base.index\n",
    "values = base.values"
   ]
  },
  {
   "cell_type": "code",
   "execution_count": 21,
   "metadata": {},
   "outputs": [
    {
     "data": {
      "text/plain": [
       "<BarContainer object of 3 artists>"
      ]
     },
     "execution_count": 21,
     "metadata": {},
     "output_type": "execute_result"
    },
    {
     "data": {
      "image/png": "[encoded data removed]",
      "text/plain": [
       "<Figure size 432x288 with 1 Axes>"
      ]
     },
     "metadata": {},
     "output_type": "display_data"
    }
   ],
   "source": [
    "plt.bar(index, values)"
   ]
  }
 ],
 "metadata": {
  "kernelspec": {
   "display_name": "Python 3",
   "language": "python",
   "name": "python3"
  },
  "language_info": {
   "codemirror_mode": {
    "name": "ipython",
    "version": 3
   },
   "file_extension": ".py",
   "mimetype": "text/x-python",
   "name": "python",
   "nbconvert_exporter": "python",
   "pygments_lexer": "ipython3",
   "version": "3.6.6"
  }
 },
 "nbformat": 4,
 "nbformat_minor": 2
}
